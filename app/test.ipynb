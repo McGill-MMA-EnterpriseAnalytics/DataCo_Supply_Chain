{
 "cells": [
  {
   "cell_type": "code",
   "execution_count": 2,
   "metadata": {},
   "outputs": [],
   "source": [
    "# pip install streamlit"
   ]
  },
  {
   "cell_type": "code",
   "execution_count": 1,
   "metadata": {},
   "outputs": [],
   "source": [
    "import streamlit as st\n",
    "import pandas as pd\n",
    "import pickle  # Assuming the model is saved with pickle\n"
   ]
  },
  {
   "cell_type": "code",
   "execution_count": 3,
   "metadata": {},
   "outputs": [
    {
     "name": "stderr",
     "output_type": "stream",
     "text": [
      "2024-05-01 18:44:14.354 \n",
      "  \u001b[33m\u001b[1mWarning:\u001b[0m to view this Streamlit app on a browser, run it with the following\n",
      "  command:\n",
      "\n",
      "    streamlit run /Users/yanhuanhuang/anaconda3/lib/python3.11/site-packages/ipykernel_launcher.py [ARGUMENTS]\n"
     ]
    }
   ],
   "source": [
    "# Load your model (make sure to provide the correct path to the model file)\n",
    "model = pickle.load(open('../result/deploy/fraud_detection_xgb.pkl', 'rb'))\n",
    "\n",
    "def predict(input_data):\n",
    "    # This function will make predictions based on the model and input data\n",
    "    return model.predict(input_data)\n",
    "\n",
    "st.title('Fraud Detection Model App')\n",
    "\n",
    "# File uploader allows user to add their own CSV\n",
    "uploaded_file = st.file_uploader(\"Choose a file\")\n",
    "\n",
    "if uploaded_file is not None:\n",
    "    data = pd.read_csv(uploaded_file)\n",
    "    st.write(data)  # Display the uploaded data\n",
    "    if st.button('Predict'):\n",
    "        predictions = predict(data)\n",
    "        st.write(predictions)  # Display the predictions"
   ]
  },
  {
   "cell_type": "code",
   "execution_count": null,
   "metadata": {},
   "outputs": [],
   "source": []
  }
 ],
 "metadata": {
  "kernelspec": {
   "display_name": "base",
   "language": "python",
   "name": "python3"
  },
  "language_info": {
   "codemirror_mode": {
    "name": "ipython",
    "version": 3
   },
   "file_extension": ".py",
   "mimetype": "text/x-python",
   "name": "python",
   "nbconvert_exporter": "python",
   "pygments_lexer": "ipython3",
   "version": "3.11.5"
  }
 },
 "nbformat": 4,
 "nbformat_minor": 2
}
