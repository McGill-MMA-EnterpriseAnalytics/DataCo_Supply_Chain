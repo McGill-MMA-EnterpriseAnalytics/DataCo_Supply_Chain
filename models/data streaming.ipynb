{
 "cells": [
  {
   "cell_type": "code",
   "execution_count": 1,
   "id": "5fe856bf",
   "metadata": {},
   "outputs": [
    {
     "name": "stdout",
     "output_type": "stream",
     "text": [
      "Collecting pyspark\n",
      "  Downloading pyspark-3.5.1.tar.gz (317.0 MB)\n",
      "\u001b[2K     \u001b[90m━━━━━━━━━━━━━━━━━━━━━━━━━━━━━━━━━━━━━━━\u001b[0m \u001b[32m317.0/317.0 MB\u001b[0m \u001b[31m3.6 MB/s\u001b[0m eta \u001b[36m0:00:00\u001b[0m00:01\u001b[0m00:02\u001b[0m\n",
      "\u001b[?25h  Preparing metadata (setup.py) ... \u001b[?25ldone\n",
      "\u001b[?25hCollecting py4j==0.10.9.7 (from pyspark)\n",
      "  Downloading py4j-0.10.9.7-py2.py3-none-any.whl.metadata (1.5 kB)\n",
      "Downloading py4j-0.10.9.7-py2.py3-none-any.whl (200 kB)\n",
      "\u001b[2K   \u001b[90m━━━━━━━━━━━━━━━━━━━━━━━━━━━━━━━━━━━━━━━━\u001b[0m \u001b[32m200.5/200.5 kB\u001b[0m \u001b[31m4.4 MB/s\u001b[0m eta \u001b[36m0:00:00\u001b[0ma \u001b[36m0:00:01\u001b[0m\n",
      "\u001b[?25hBuilding wheels for collected packages: pyspark\n",
      "  Building wheel for pyspark (setup.py) ... \u001b[?25ldone\n",
      "\u001b[?25h  Created wheel for pyspark: filename=pyspark-3.5.1-py2.py3-none-any.whl size=317488496 sha256=0821d67f625f3da5aa7503a752975937a64095c0923f82261a86d524cad2e610\n",
      "  Stored in directory: /Users/hongyizhan/Library/Caches/pip/wheels/95/13/41/f7f135ee114175605fb4f0a89e7389f3742aa6c1e1a5bcb657\n",
      "Successfully built pyspark\n",
      "Installing collected packages: py4j, pyspark\n",
      "Successfully installed py4j-0.10.9.7 pyspark-3.5.1\n"
     ]
    }
   ],
   "source": [
    "! pip install pyspark\n"
   ]
  },
  {
   "cell_type": "code",
   "execution_count": null,
   "id": "1f0e77ae",
   "metadata": {},
   "outputs": [],
   "source": [
    "from pyspark.sql import SparkSession\n",
    "\n",
    "def main():\n",
    "    spark = SparkSession.builder \\\n",
    "        .appName(\"SplitDatasetByRow\") \\\n",
    "        .master(\"local\") \\\n",
    "        .getOrCreate()\n",
    "\n",
    "    # Read the entire CSV into a DataFrame\n",
    "    full_df = spark.read.option(\"header\", \"true\").csv(\"path_to_your_full_dataset.csv\")\n",
    "\n",
    "    # Define the size of each batch\n",
    "    batch_size = 100  # Change this to the number of rows you want in each batch\n",
    "\n",
    "    # Calculate the number of batches needed\n",
    "    total_rows = full_df.count()\n",
    "    num_batches = total_rows // batch_size + (1 if total_rows % batch_size != 0 else 0)\n",
    "\n",
    "    # Split the data and process each batch\n",
    "    for i in range(num_batches):\n",
    "        # Calculate the start and end indices for each batch\n",
    "        start_row = i * batch_size\n",
    "        end_row = start_row + batch_size\n",
    "\n",
    "        # Create a DataFrame for the batch\n",
    "        batch_df = full_df.limit(end_row).subtract(full_df.limit(start_row))\n",
    "        \n",
    "        # Now you can process each batch_df as needed, such as testing a model\n",
    "        print(f\"Processing batch {i+1} with rows from {start_row + 1} to {end_row}\")\n",
    "        batch_df.show(5)  # Show the first 5 rows of the batch for demonstration\n",
    "\n",
    "        # Example: Save each batch to a separate file (optional)\n",
    "        batch_df.write.csv(f\"output_batch_{i+1}.csv\", header=True)\n",
    "\n",
    "if __name__ == \"__main__\":\n",
    "    main()\n"
   ]
  }
 ],
 "metadata": {
  "kernelspec": {
   "display_name": "Python 3 (ipykernel)",
   "language": "python",
   "name": "python3"
  },
  "language_info": {
   "codemirror_mode": {
    "name": "ipython",
    "version": 3
   },
   "file_extension": ".py",
   "mimetype": "text/x-python",
   "name": "python",
   "nbconvert_exporter": "python",
   "pygments_lexer": "ipython3",
   "version": "3.11.4"
  }
 },
 "nbformat": 4,
 "nbformat_minor": 5
}
